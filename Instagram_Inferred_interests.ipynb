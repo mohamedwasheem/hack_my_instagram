{
 "cells": [
  {
   "cell_type": "code",
   "execution_count": null,
   "id": "promising-insight",
   "metadata": {},
   "outputs": [],
   "source": [
    "import pandas as pd\n",
    "import numpy as np\n",
    "import os\n",
    "import json"
   ]
  },
  {
   "cell_type": "code",
   "execution_count": null,
   "id": "chief-evening",
   "metadata": {},
   "outputs": [],
   "source": [
    "## THIS FUNCTION TAKES IN THE FOLDER NAME OF INTEREST YOU HAVE CHOSEN AND THE CORRESPONDING JSON FILE YOU WANNA ACCESS\n",
    "## AND ASSIGNS THE VALUES TO THE data variable\n",
    "\n",
    "def read_my_data(folder_name_of_interest,folder_name_of_interest_contents):\n",
    "    with open(folder_name_of_interest + '/'+ folder_name_of_interest_contents) as json_file:\n",
    "        data = json.load(json_file)\n",
    "    return(data)"
   ]
  },
  {
   "cell_type": "code",
   "execution_count": null,
   "id": "biological-dublin",
   "metadata": {},
   "outputs": [],
   "source": [
    "## Lets see all the folder names in the directory\n",
    "folder_names_list = os.listdir()\n",
    "display(folder_names_list)"
   ]
  },
  {
   "cell_type": "code",
   "execution_count": null,
   "id": "minus-coordinate",
   "metadata": {},
   "outputs": [],
   "source": [
    "## Lets try another \n",
    "folder_name_of_interest = 'information_about_you'\n",
    "folder_name_of_interest_contents = os.listdir(folder_name_of_interest)\n",
    "display(folder_name_of_interest_contents)\n",
    "## here the folder name of interes contents actually has 2 files in it, i selected the ads_interest file thus index is [1]\n",
    "data = read_my_data(folder_name_of_interest,folder_name_of_interest_contents[1])    "
   ]
  },
  {
   "cell_type": "code",
   "execution_count": null,
   "id": "suitable-ready",
   "metadata": {},
   "outputs": [],
   "source": [
    "interests = [];\n",
    "for i in range (0,len(data['inferred_data_ig_interest'])):\n",
    "    for key, value in data['inferred_data_ig_interest'][i]['string_map_data']['Interest'].items():  #accessing keys\n",
    "#         print(key,end=',')\n",
    "#         print(value,end='|')\n",
    "        interests.append(value)\n",
    "display(interests) \n"
   ]
  },
  {
   "cell_type": "code",
   "execution_count": null,
   "id": "contrary-building",
   "metadata": {},
   "outputs": [],
   "source": [
    "### Do a lot of cleaning of the data and save it as a csv!\n",
    "interests_df = pd.DataFrame(interests)\n",
    "interests_df = interests_df.fillna(0)\n",
    "interests_df = interests_df[interests_df[0]!=''] \n",
    "interests_df = interests_df[interests_df[0]!=0]\n",
    "interests_df = interests_df.sort_values(0)\n",
    "(interests_df).to_csv('infered_interests.csv',index=False)\n"
   ]
  },
  {
   "cell_type": "code",
   "execution_count": null,
   "id": "lined-success",
   "metadata": {},
   "outputs": [],
   "source": [
    "interests_df = pd.read_csv('infered_interests.csv')\n",
    "interests_df.head()"
   ]
  }
 ],
 "metadata": {
  "kernelspec": {
   "display_name": "Python 3",
   "language": "python",
   "name": "python3"
  },
  "language_info": {
   "codemirror_mode": {
    "name": "ipython",
    "version": 3
   },
   "file_extension": ".py",
   "mimetype": "text/x-python",
   "name": "python",
   "nbconvert_exporter": "python",
   "pygments_lexer": "ipython3",
   "version": "3.7.3"
  }
 },
 "nbformat": 4,
 "nbformat_minor": 5
}
